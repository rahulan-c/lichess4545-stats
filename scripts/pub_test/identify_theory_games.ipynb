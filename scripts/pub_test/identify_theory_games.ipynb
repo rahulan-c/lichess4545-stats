{
 "cells": [
  {
   "cell_type": "markdown",
   "metadata": {},
   "source": [
    "# Find deviations from Lichess masters DB"
   ]
  },
  {
   "cell_type": "code",
   "execution_count": 13,
   "metadata": {},
   "outputs": [],
   "source": [
    "import os\n",
    "import time\n",
    "import requests\n",
    "from dotenv import load_dotenv\n",
    "\n",
    "load_dotenv()\n",
    "\n",
    "token = os.environ.get(\"LICHESS_TOKEN\")"
   ]
  },
  {
   "cell_type": "code",
   "execution_count": 14,
   "metadata": {},
   "outputs": [],
   "source": [
    "import requests\n",
    "import chess\n",
    "import chess.pgn\n",
    "import time\n",
    "import sys\n",
    "import berserk\n",
    "import io\n",
    "from IPython.display import SVG\n",
    "from tqdm import tqdm\n",
    "\n",
    "session = berserk.TokenSession(token)\n",
    "client = berserk.Client(session)"
   ]
  },
  {
   "cell_type": "code",
   "execution_count": 15,
   "metadata": {},
   "outputs": [
    {
     "data": {
      "text/plain": [
       "20"
      ]
     },
     "execution_count": 15,
     "metadata": {},
     "output_type": "execute_result"
    }
   ],
   "source": [
    "# Check FEN against Lichess masters DB\n",
    "def check_fen_against_mastersdb(fen):\n",
    "\n",
    "  FENdict = {}\n",
    "  cachedfen = FENdict.get(fen)\n",
    "\n",
    "  if cachedfen:\n",
    "    r = cachedfen\n",
    "\n",
    "  else:\n",
    "    while True:\n",
    "      payload = {'fen': fen, 'topGames': 0, 'moves': 30}\n",
    "      r = requests.get(f'https://explorer.lichess.ovh/master', params = payload)\n",
    "      if r.status_code == 200:\n",
    "        time.sleep(0.2)\n",
    "        r = r.json()\n",
    "        break\n",
    "      if r.status_code == 429:\n",
    "        print(\"Waiting 5 seconds\")\n",
    "        time.sleep(5)\n",
    "        continue\n",
    "    # FENdict[fen] = r\n",
    "    matches = r['white'] + r['black'] + r['draws']\n",
    "  return matches\n",
    "\n",
    "fen = 'rn1qkb1r/pp3ppp/2p1pn2/3p1b2/2PP4/1Q3NP1/PP2PPBP/RNB1K2R b KQkq -'\n",
    "check_fen_against_mastersdb(fen)"
   ]
  },
  {
   "cell_type": "code",
   "execution_count": 17,
   "metadata": {},
   "outputs": [
    {
     "data": {
      "text/plain": [
       "12"
      ]
     },
     "execution_count": 17,
     "metadata": {},
     "output_type": "execute_result"
    }
   ],
   "source": [
    "# Identify when a Lichess game was last in \"theory\" (aka matched at least one masters DB game) \n",
    "def find_last_ply_found_in_mastersdb(id, start_ply = 0):\n",
    "\n",
    "  pgn = client.games.export(id, as_pgn=True)\n",
    "  game_num = 0\n",
    "  \n",
    "  while True:\n",
    "    with io.StringIO(pgn) as f:\n",
    "      game = chess.pgn.read_game(f)\n",
    "    if not game or game_num >= 1:\n",
    "      break\n",
    "    game_num += 1\n",
    "    board = game.board()\n",
    "    masters_matches = 99999\n",
    "    while masters_matches > 0:\n",
    "      for n, move in enumerate(game.mainline_moves()):\n",
    "        if n < start_ply:\n",
    "            board.push(move)\n",
    "        else:\n",
    "            masters_matches = check_fen_against_mastersdb(board.epd())\n",
    "            if masters_matches == 0: # stop when no matches are found\n",
    "                break\n",
    "            else:\n",
    "                board.push(move)  \n",
    "  return n-1\n",
    "\n",
    "find_last_ply_found_in_mastersdb('5fULpU0u')"
   ]
  },
  {
   "cell_type": "code",
   "execution_count": 18,
   "metadata": {},
   "outputs": [],
   "source": [
    "# Check a ply in a game against the masters DB and return the number of matches\n",
    "def check_ply_against_mastersdb(id, ply):\n",
    "    pgn = client.games.export(id, as_pgn=True)\n",
    "    game_num = 0\n",
    "    while True:\n",
    "        with io.StringIO(pgn) as f:\n",
    "            game = chess.pgn.read_game(f)\n",
    "        if not game or game_num >= 1:\n",
    "            break\n",
    "        game_num += 1\n",
    "        board = game.board()\n",
    "        \n",
    "        for n, move in enumerate(game.mainline_moves()):\n",
    "            if n < ply:\n",
    "                board.push(move)  \n",
    "            else:\n",
    "                matches = check_fen_against_mastersdb(board.epd())\n",
    "                break        \n",
    "    return matches"
   ]
  },
  {
   "cell_type": "code",
   "execution_count": 19,
   "metadata": {},
   "outputs": [
    {
     "name": "stdout",
     "output_type": "stream",
     "text": [
      "Checking game 1 / 5 : 0oht8pGP\n",
      "Current latest ply matched in masters DB: 16 in 0oht8pGP\n",
      "Checking game 2 / 5 : JSyE55lM\n",
      "Checking game 3 / 5 : 42UIwlRN\n",
      "New latest ply matched in masters DB: 17 in 42UIwlRN\n",
      "Checking game 4 / 5 : YsMWRKcn\n",
      "New latest ply matched in masters DB: 17 in YsMWRKcn\n",
      "Checking game 5 / 5 : 2QnQM1ns\n",
      "New latest ply matched in masters DB: 20 in 2QnQM1ns\n"
     ]
    },
    {
     "data": {
      "text/plain": [
       "['2QnQM1ns', 20]"
      ]
     },
     "execution_count": 19,
     "metadata": {},
     "output_type": "execute_result"
    }
   ],
   "source": [
    "# Find game with the latest ply matched in the masters DB\n",
    "def find_latest_deviation_from_mastersdb(ids):\n",
    "    \n",
    "    latest_deviation_ply = 9999\n",
    "    latest_deviation_id = ''\n",
    "    \n",
    "    for i in range(0, len(ids)):\n",
    "        print('Checking game', i+1, '/', len(ids), ':', ids[i])\n",
    "\n",
    "        if i == 0:\n",
    "            latest_deviation_ply = find_last_ply_found_in_mastersdb(ids[i], 1)\n",
    "            latest_deviation_id = ids[i]\n",
    "            print('Current latest ply matched in masters DB:', latest_deviation_ply, 'in', latest_deviation_id)\n",
    "\n",
    "        if i > 0:\n",
    "            new_matches = check_ply_against_mastersdb(ids[i], latest_deviation_ply)\n",
    "            if new_matches == 0:\n",
    "                continue\n",
    "            if new_matches > 0:\n",
    "                latest_deviation_ply = find_last_ply_found_in_mastersdb(ids[i], latest_deviation_ply)\n",
    "                latest_deviation_id = ids[i]\n",
    "                print('New latest ply matched in masters DB:', latest_deviation_ply, 'in', latest_deviation_id)\n",
    "\n",
    "        if i > 0 and i % 100 == 0:\n",
    "            print('Current latest ply matched in masters DB:', latest_deviation_ply, 'in', latest_deviation_id)\n",
    "\n",
    "    return [latest_deviation_id, latest_deviation_ply]\n",
    "\n",
    "\n",
    "find_latest_deviation_from_mastersdb(['0oht8pGP', 'JSyE55lM', '42UIwlRN', 'YsMWRKcn', '2QnQM1ns'])\n",
    "\n",
    "# More games to test...\n",
    "# 'rpT0BJkr', 'elDXjTwi', 'HqYHBLxl', 'LmSs5zO5', 'zssiRcV2',\n",
    "# 'zssiRcV2', 'QqY5HUCU', 'BSB32D9z', '5lFmsjoC', 'SG4cXHBZ',\n",
    "# '45KDSsll'"
   ]
  },
  {
   "cell_type": "code",
   "execution_count": null,
   "metadata": {},
   "outputs": [],
   "source": []
  }
 ],
 "metadata": {
  "kernelspec": {
   "display_name": "Python 3",
   "language": "python",
   "name": "python3"
  },
  "language_info": {
   "codemirror_mode": {
    "name": "ipython",
    "version": 3
   },
   "file_extension": ".py",
   "mimetype": "text/x-python",
   "name": "python",
   "nbconvert_exporter": "python",
   "pygments_lexer": "ipython3",
   "version": "3.8.5"
  }
 },
 "nbformat": 4,
 "nbformat_minor": 4
}
